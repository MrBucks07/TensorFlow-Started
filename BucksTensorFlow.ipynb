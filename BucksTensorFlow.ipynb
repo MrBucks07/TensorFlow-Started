{
  "nbformat": 4,
  "nbformat_minor": 0,
  "metadata": {
    "colab": {
      "name": "BucksTensorFlow.ipynb",
      "provenance": [],
      "collapsed_sections": [],
      "authorship_tag": "ABX9TyNBtIXvPiidhqumNCcaVzer",
      "include_colab_link": true
    },
    "kernelspec": {
      "name": "python3",
      "display_name": "Python 3"
    },
    "language_info": {
      "name": "python"
    }
  },
  "cells": [
    {
      "cell_type": "markdown",
      "metadata": {
        "id": "view-in-github",
        "colab_type": "text"
      },
      "source": [
        "<a href=\"https://colab.research.google.com/github/MrBucks07/TensorFlow-Started/blob/main/BucksTensorFlow.ipynb\" target=\"_parent\"><img src=\"https://colab.research.google.com/assets/colab-badge.svg\" alt=\"Open In Colab\"/></a>"
      ]
    },
    {
      "cell_type": "markdown",
      "source": [
        "**Required imports to make ML Model.**"
      ],
      "metadata": {
        "id": "Kjc3M8TyEYp0"
      }
    },
    {
      "cell_type": "code",
      "source": [
        "import tensorflow as tf\n",
        "from tensorflow import keras\n",
        "import numpy as np\n",
        "import matplotlib.pyplot as plt"
      ],
      "metadata": {
        "id": "dvNdaOnwDucf"
      },
      "execution_count": 3,
      "outputs": []
    },
    {
      "cell_type": "markdown",
      "source": [
        "**Loading data into data variable from kera datasets.**"
      ],
      "metadata": {
        "id": "f42kTZTGvTx9"
      }
    },
    {
      "cell_type": "code",
      "source": [
        "data = keras.datasets.fashion_mnist"
      ],
      "metadata": {
        "id": "nf50obFbEpOs"
      },
      "execution_count": 4,
      "outputs": []
    },
    {
      "cell_type": "markdown",
      "source": [
        "**Splitting data into training and testing data.**"
      ],
      "metadata": {
        "id": "4wW5do8RvfXG"
      }
    },
    {
      "cell_type": "code",
      "source": [
        "(train_images, train_labels), (test_images, test_labels) = data.load_data()\n",
        "train_images = train_images/255.0\n",
        "test_images = test_images/255.0"
      ],
      "metadata": {
        "id": "SALEvYYiE5A-"
      },
      "execution_count": null,
      "outputs": []
    },
    {
      "cell_type": "markdown",
      "source": [
        "**Defining class according to name of items and corresponding label.**"
      ],
      "metadata": {
        "id": "R_-Fb-elwH8G"
      }
    },
    {
      "cell_type": "code",
      "source": [
        "label_names = ['T-shirt/top', 'Trouser', 'Pullover', 'Dress', 'Coat',\n",
        "               'Sandal', 'Shirt', 'Sneaker', 'Bag', 'Ankle boot']"
      ],
      "metadata": {
        "id": "OwWzu9IoHVxJ"
      },
      "execution_count": 7,
      "outputs": []
    },
    {
      "cell_type": "markdown",
      "source": [
        "**Defining Model to predict fashion items.**"
      ],
      "metadata": {
        "id": "ZYBtemoIwjem"
      }
    },
    {
      "cell_type": "code",
      "source": [
        "model = keras.Sequential([\n",
        "  keras.layers.Flatten(input_shape=(28,28)),\n",
        "  keras.layers.Dense(128, activation='relu'),\n",
        "  keras.layers.Dense(10, activation='softmax')\n",
        "])\n",
        "\n",
        "model.compile(optimizer='adam', loss='sparse_categorical_crossentropy', metrics=['accuracy'])\n",
        "model.fit(train_images, train_labels, epochs=10)\n",
        "test_loss, test_acc = model.evaluate(test_images, test_labels)\n",
        "print(f\"Test loss ${test_loss}\")\n",
        "print(f\"Test acc ${test_acc}\")\n",
        "prediction = model.predict(test_images)\n",
        "\n",
        "for i in range(5):\n",
        "  plt.grid(False),\n",
        "  plt.imshow(test_images[i], cmap=plt.cm.binary)\n",
        "  plt.xlabel(\"Actual : \" + label_names[test_labels[i]])\n",
        "  plt.title(\"Prediction : \" + label_names[np.argmax(prediction[i])])\n",
        "  plt.show()"
      ],
      "metadata": {
        "id": "8BpY43LVGgb4"
      },
      "execution_count": null,
      "outputs": []
    }
  ]
}